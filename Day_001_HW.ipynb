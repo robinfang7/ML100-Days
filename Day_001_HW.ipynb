{
 "cells": [
  {
   "cell_type": "markdown",
   "metadata": {},
   "source": [
    "# 作業1\n",
    "### 1. 你選的這組資料為何重要\n",
    "可以預測房價，對買賣房子的人很需要。\n",
    "### 2. 資料從何而來\n",
    "Kaggle網站 House Prices: Advanced Regression Techniques\n",
    "### 3. 蒐集而來的資料型態為何\n",
    "數字(實數、整數)、文字(有序列、無排序)。\n",
    "### 4. 這組資料想解決的問題如何評估\n",
    "此問題為回歸問題，比較預測房價與實際房價的差異性，用RMSE(Root mean squared error)算出差異性"
   ]
  },
  {
   "cell_type": "markdown",
   "metadata": {},
   "source": [
    "# 作業2\n",
    "### 1.核心問題為何\n",
    "縮短叫車時間，例如乘客與空車之最短距離\n",
    "### 2. 資料從何而來\n",
    "叫車APP的資料庫裡收集乘客位置，和目前空車的位置\n",
    "### 3. 蒐集而來的資料型態為何\n",
    "數字。\n",
    "### 4. 這組資料想解決的問題如何評估\n",
    "此問題為回歸問題，計算乘客與空車們之路程，算出最短路程。"
   ]
  },
  {
   "cell_type": "code",
   "execution_count": null,
   "metadata": {},
   "outputs": [],
   "source": []
  }
 ],
 "metadata": {
  "kernelspec": {
   "display_name": "Python 3",
   "language": "python",
   "name": "python3"
  },
  "language_info": {
   "codemirror_mode": {
    "name": "ipython",
    "version": 3
   },
   "file_extension": ".py",
   "mimetype": "text/x-python",
   "name": "python",
   "nbconvert_exporter": "python",
   "pygments_lexer": "ipython3",
   "version": "3.6.7"
  }
 },
 "nbformat": 4,
 "nbformat_minor": 2
}
