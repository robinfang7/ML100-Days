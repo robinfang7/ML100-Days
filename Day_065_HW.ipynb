{
 "cells": [
  {
   "cell_type": "markdown",
   "metadata": {},
   "source": [
    "# 作業\n",
    "* 選擇分類資料集(右下)-螺旋雙臂 - 交錯六群，限定特徵只能使用前兩個，隱藏層 2 層滿 (共 8 * 2 =16 個神經元)，  \n",
    "  遞迴次數只允許跑到500次，但可以自由調整 批次大小、學習速率、啟動函數、正規化選項與參數\n",
    "* 在上述限制下，挑戰看看測試誤差 (Test Loss) 最低能到多少? 請回答你的上述幾項參數與 Test Loss 數"
   ]
  },
  {
   "cell_type": "code",
   "execution_count": null,
   "metadata": {},
   "outputs": [],
   "source": [
    "Batch = 20, Learning rate = 0.3, Activation = Sigmoid, Regularization = None, , Regularization rate = 0, Test Loss = 0.476\n",
    "Batch = 20, Learning rate = 0.3, Activation = Tanh, Regularization = None, , Regularization rate = 0, Test Loss = 0.365\n",
    "Batch = 20, Learning rate = 0.3, Activation = RuLu, Regularization = None, , Regularization rate = 0, Test Loss = 0.353\n",
    "Batch = 20, Learning rate = 0.03, Activation = RuLu, Regularization = None, , Regularization rate = 0, Test Loss = 0.326\n",
    "Batch = 20, Learning rate = 0.003, Activation = RuLu, Regularization = None, , Regularization rate = 0, Test Loss = 0.472\n",
    "Batch = 20, Learning rate = 1, Activation = RuLu, Regularization = None, , Regularization rate = 0, Test Loss = 0.258\n",
    "Batch = 20, Learning rate = 1, Activation = Sigmoid, Regularization = None, , Regularization rate = 0, Test Loss = 0.390\n",
    "Batch = 20, Learning rate = 0.03, Activation = RuLu, Regularization = L1, , Regularization rate = 0.001, Test Loss = 0.347\n",
    "Batch = 20, Learning rate = 0.03, Activation = RuLu, Regularization = L2, , Regularization rate = 0.001, Test Loss = 0.394\n",
    "Batch = 10, Learning rate = 0.03, Activation = RuLu, Regularization = None, , Regularization rate = 0, Test Loss = 0.169\n",
    "Batch = 5, Learning rate = 0.03, Activation = RuLu, Regularization = None, , Regularization rate = 0, Test Loss = 0.025"
   ]
  },
  {
   "cell_type": "markdown",
   "metadata": {
    "collapsed": true
   },
   "source": []
  }
 ],
 "metadata": {
  "kernelspec": {
   "display_name": "Python 3",
   "language": "python",
   "name": "python3"
  },
  "language_info": {
   "codemirror_mode": {
    "name": "ipython",
    "version": 3
   },
   "file_extension": ".py",
   "mimetype": "text/x-python",
   "name": "python",
   "nbconvert_exporter": "python",
   "pygments_lexer": "ipython3",
   "version": "3.6.8"
  }
 },
 "nbformat": 4,
 "nbformat_minor": 2
}
